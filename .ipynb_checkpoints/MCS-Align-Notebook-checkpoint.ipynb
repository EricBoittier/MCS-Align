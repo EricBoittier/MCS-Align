{
 "cells": [
  {
   "cell_type": "code",
   "execution_count": 1,
   "id": "5de89e61-a80b-4a47-a9e8-d96373d45cf8",
   "metadata": {},
   "outputs": [],
   "source": [
    "from MCSAlign import MCSAlign, np_to_xyz, set_global_smiles, set_global_mols\n",
    "import py3Dmol\n",
    "import numpy as np\n",
    "from rdkit import Chem\n",
    "\n",
    "N_GEN = 20\n",
    "TANIMOTO_CUTOFF = 0.01\n",
    "\n",
    "global_smiles = set_global_smiles(5,7)\n",
    "global_mols = set_global_mols(global_smiles)\n",
    "\n",
    "def generate(mcsa, name):\n",
    "    mcsa.find_interaction_mol()\n",
    "    mcsa.set_smiles(global_smiles)\n",
    "    mcsa.set_mols(global_mols)\n",
    "    mcsa.set_similarities()\n",
    "    mcsa.find_matches(TANIMOTO_CUTOFF, n_values=N_GEN)\n",
    "    mcsa.find_MCSs()\n",
    "    print(\"generating structures\")\n",
    "    for index in range(N_GEN):\n",
    "        m1 = mcsa.all_mcs_structures[index]\n",
    "        atoms, names = (mcsa.rotate_align(index, mcsa.motif))\n",
    "\n",
    "        str_out = np_to_xyz(atoms, names)\n",
    "\n",
    "        with open(f\"gens_{name}/gen{index}.xyz\", \"w\") as f:\n",
    "            f.write(str_out)\n"
   ]
  },
  {
   "cell_type": "code",
   "execution_count": 3,
   "id": "632f8e58-c3a1-4a14-864e-1ac0d7b1e894",
   "metadata": {},
   "outputs": [
    {
     "name": "stdout",
     "output_type": "stream",
     "text": [
      "<rdkit.Chem.rdchem.Mol object at 0x2b107fa01170>\n"
     ]
    },
    {
     "data": {
      "text/plain": [
       "<MCSAlign.MCSAlign at 0x2b1024925f98>"
      ]
     },
     "execution_count": 3,
     "metadata": {},
     "output_type": "execute_result"
    }
   ],
   "source": [
    "#  Training\n",
    "#mcsa = MCSAlign(\"/data/unibas/boittier/hydra/train/132-64-9.out\", \"cOc\")\n",
    "#mcsa = MCSAlign(\"/data/unibas/boittier/hydra/train/2406-25-9.out\", \"N-O\")\n",
    "#mcsa = MCSAlign(\"/data/unibas/boittier/hydra/train/327-54-8.out\", \"cF\")\n",
    "mcsa = MCSAlign(\"/data/unibas/boittier/hydra/train/98-85-1.out\", \"CO\")\n",
    "#mcsa = MCSAlign(\"/data/unibas/boittier/hydra/train/98-86-2.out\", \"C=O\")\n",
    "#mcsa = MCSAlign(\"/data/unibas/boittier/hydra/train/611-20-1.out\", \"C#N\")\n",
    "#mcsa = MCSAlign(\"/data/unibas/boittier/hydra/train/62-53-3.out\", \"cN\")\n",
    "#mcsa = MCSAlign(\"/data/unibas/boittier/hydra/train/67-64-1.out\", \"C=O\")\n",
    "#mcsa = MCSAlign(\"/data/unibas/boittier/hydra/train/1191-95-3.out\", \"C=O\")\n",
    "#mcsa = MCSAlign(\" /data/unibas/boittier/hydra/train/98-85-1.out\", \"C=O\")\n",
    "\n",
    "# 288 is not working\n",
    "#mcsa = MCSAlign(\"/data/unibas/boittier/hydra/train/288-32-4.out\", \"\")\n",
    "\n",
    "# Testing\n",
    "# mcsa = MCSAlign(\"/data/unibas/boittier/hydra/test/109-99-9.out\", \"cOc\")\n",
    "# mcsa = MCSAlign(\"/data/unibas/boittier/hydra/test/110-86-1.out\", \"cNc\")\n",
    "# mcsa = MCSAlign(\"/data/unibas/boittier/hydra/test/125132-75-4.out\", \"OCCO\")\n",
    "# mcsa = MCSAlign(\"/data/unibas/boittier/hydra/test/434-45-7.out\", \"cC=O\")\n",
    "# mcsa = MCSAlign(\"/data/unibas/boittier/hydra/test/50-0-0.out\", \"C=O\")\n",
    "# mcsa = MCSAlign(\"/data/unibas/boittier/hydra/test/502-49-8.out\", \"C=O\")\n",
    "# mcsa = MCSAlign(\"/data/unibas/boittier/hydra/test/547-64-8.out\", \"O=CCO\")\n",
    "# mcsa = MCSAlign(\"/data/unibas/boittier/hydra/test/75-89-8.out\", \"CO\")\n",
    "# mcsa = MCSAlign(\"/data/unibas/boittier/hydra/test/80-73-9.out\", \"N(C=O)N\")\n",
    "\n",
    "\n",
    "# # Contains Sulphur\n",
    "# mcsa = MCSAlign(\"/data/unibas/boittier/hydra/test/110-01-0.out\", \"S\")\n",
    "\n",
    "mcsa = MCSAlign(\"/data/unibas/boittier/hydra/train/288-32-4.out\", \"CO\", using_pdb=True)\n",
    "#mcsa = MCSAlign(\"/data/unibas/boittier/hydra/test/125132-75-4.out\", \"OC\")\n",
    "mcsa"
   ]
  },
  {
   "cell_type": "code",
   "execution_count": 60,
   "id": "7582d85d-2e99-48e8-af62-87ac3b692afa",
   "metadata": {},
   "outputs": [
    {
     "name": "stdout",
     "output_type": "stream",
     "text": [
      "<rdkit.Chem.rdchem.Mol object at 0x2b879894f800>\n"
     ]
    },
    {
     "data": {
      "image/png": "[encoded data removed]",
      "text/plain": [
       "<rdkit.Chem.rdchem.Mol at 0x2b879894f800>"
      ]
     },
     "execution_count": 60,
     "metadata": {},
     "output_type": "execute_result"
    }
   ],
   "source": [
    "target_complex_mol = Chem.MolFromPDBFile(\"/data/unibas/boittier/hydra/train/288-32-4.out.molecule.mol2.pdb\")\n",
    "\n",
    "print(target_complex_mol)\n",
    "target_complex_mol"
   ]
  },
  {
   "cell_type": "code",
   "execution_count": 4,
   "id": "0b9a035b-069d-47bf-9e4d-7b3242f9f8ec",
   "metadata": {},
   "outputs": [
    {
     "data": {
      "image/png": "[encoded data removed]",
      "text/plain": [
       "<rdkit.Chem.rdchem.Mol at 0x2b5defadcb20>"
      ]
     },
     "execution_count": 4,
     "metadata": {},
     "output_type": "execute_result"
    }
   ],
   "source": [
    "mcsa.target_molHs"
   ]
  },
  {
   "cell_type": "code",
   "execution_count": null,
   "id": "2ffe52bd-d57e-48c5-b996-41e3c12b9a51",
   "metadata": {},
   "outputs": [],
   "source": []
  },
  {
   "cell_type": "code",
   "execution_count": 14,
   "id": "c2dfcb5c-3516-41a4-ab1a-d4373c88f5a1",
   "metadata": {},
   "outputs": [
    {
     "name": "stdout",
     "output_type": "stream",
     "text": [
      "generating structures\n"
     ]
    }
   ],
   "source": [
    "name = \"98-85\"\n",
    "mcsa = MCSAlign(\"/data/unibas/boittier/hydra/train/98-85-1.out\", \"CO\")\n",
    "generate(mcsa, name)\n"
   ]
  },
  {
   "cell_type": "code",
   "execution_count": 39,
   "id": "1d338b2a-53cf-4724-908d-24b1764b8c5f",
   "metadata": {},
   "outputs": [
    {
     "name": "stdout",
     "output_type": "stream",
     "text": [
      "110\n",
      "generating structures\n"
     ]
    }
   ],
   "source": [
    "name = \"110\"\n",
    "print(name)\n",
    "mcsa = MCSAlign(\"/data/unibas/boittier/hydra/test/110-86-1.out\", \"na\")\n",
    "generate(mcsa, name)"
   ]
  },
  {
   "cell_type": "code",
   "execution_count": 48,
   "id": "a29a37ad-1cd0-4247-970e-7dfcacc40387",
   "metadata": {},
   "outputs": [
    {
     "name": "stdout",
     "output_type": "stream",
     "text": [
      "125132\n",
      "generating structures\n"
     ]
    }
   ],
   "source": [
    "name = \"125132\"\n",
    "print(name)\n",
    "mcsa = MCSAlign(\"/data/unibas/boittier/hydra/test/125132-75-4.out\", \"OC\")\n",
    "generate(mcsa, name)"
   ]
  },
  {
   "cell_type": "code",
   "execution_count": 12,
   "id": "ff668096-5218-44d3-b831-424ed7876e6f",
   "metadata": {},
   "outputs": [
    {
     "name": "stdout",
     "output_type": "stream",
     "text": [
      "288\n",
      "<rdkit.Chem.rdchem.Mol object at 0x2b5defcfe260>\n",
      "['    0.6630    1.1540    0.0070 C   0  0  0  0  0  0  0  0  0  0  0  0', '    0.2710   -0.9570    0.0360 C   0  0  0  0  0  0  0  0  0  0  0  0', '    1.8860    0.5460   -0.0280 C   0  0  0  0  0  0  0  0  0  0  0  0', '    0.4420    2.2070    0.0030 H   0  0  0  0  0  0  0  0  0  0  0  0', '   -0.2130   -1.9180    0.0550 H   0  0  0  0  0  0  0  0  0  0  0  0', '    2.8870    0.9350   -0.0640 H   0  0  0  0  0  0  0  0  0  0  0  0', '    1.6210   -0.8050   -0.0090 N   0  0  0  0  0  0  0  0  0  0  0  0', '    2.3010   -1.5440   -0.0280 H   0  0  0  0  0  0  0  0  0  0  0  0', '   -0.3340    0.2070    0.0470 N   0  0  0  0  0  0  0  0  0  0  0  0', '   -3.1900   -0.0510   -0.1190 O   0  0  0  0  0  0  0  0  0  0  0  0', '   -3.5910    0.3040    0.6780 H   0  0  0  0  0  0  0  0  0  0  0  0', '   -2.2360    0.1500   -0.0390 H   0  0  0  0  0  0  0  0  0  0  0  0', '  1  3  1  0', '  1  4  1  0', '  1  9  1  0', '  2  7  1  0', '  2  9  1  0', '  2  5  1  0', '  3  6  1  0', '  3  7  1  0', '  7  8  1  0', ' 10 12  1  0', ' 10 11  1  0', 'M  CHG  1   7   1', 'M  ZBO  2  10   0  11   0', 'M  HYD  3  10   2  11   1  12   1', 'M  END']\n",
      "['    0.6630    1.1540    0.0070 C   0  0  0  0  0  0  0  0  0  0  0  0', '    0.2710   -0.9570    0.0360 C   0  0  0  0  0  0  0  0  0  0  0  0', '    1.8860    0.5460   -0.0280 C   0  0  0  0  0  0  0  0  0  0  0  0', '    0.4420    2.2070    0.0030 H   0  0  0  0  0  0  0  0  0  0  0  0', '   -0.2130   -1.9180    0.0550 H   0  0  0  0  0  0  0  0  0  0  0  0', '    2.8870    0.9350   -0.0640 H   0  0  0  0  0  0  0  0  0  0  0  0', '    1.6210   -0.8050   -0.0090 N   0  0  0  0  0  0  0  0  0  0  0  0', '    2.3010   -1.5440   -0.0280 H   0  0  0  0  0  0  0  0  0  0  0  0', '   -0.3340    0.2070    0.0470 N   0  0  0  0  0  0  0  0  0  0  0  0', '  1  3  1  0', '  1  4  1  0', '  1  9  1  0', '  2  7  1  0', '  2  9  1  0', '  2  5  1  0', '  3  6  1  0', '  3  7  1  0', '  7  8  1  0', 'M  CHG  1   7   1', 'M  END']\n",
      "generating structures\n",
      "['    0.6630    1.1540    0.0070 C   0  0  0  0  0  0  0  0  0  0  0  0', '    0.2710   -0.9570    0.0360 C   0  0  0  0  0  0  0  0  0  0  0  0', '    1.8860    0.5460   -0.0280 C   0  0  0  0  0  0  0  0  0  0  0  0', '    0.4420    2.2070    0.0030 H   0  0  0  0  0  0  0  0  0  0  0  0', '   -0.2130   -1.9180    0.0550 H   0  0  0  0  0  0  0  0  0  0  0  0', '    2.8870    0.9350   -0.0640 H   0  0  0  0  0  0  0  0  0  0  0  0', '    1.6210   -0.8050   -0.0090 N   0  0  0  0  0  0  0  0  0  0  0  0', '    2.3010   -1.5440   -0.0280 H   0  0  0  0  0  0  0  0  0  0  0  0', '   -0.3340    0.2070    0.0470 N   0  0  0  0  0  0  0  0  0  0  0  0', '  1  3  1  0', '  1  4  1  0', '  1  9  1  0', '  2  7  1  0', '  2  9  1  0', '  2  5  1  0', '  3  6  1  0', '  3  7  1  0', '  7  8  1  0', 'M  CHG  1   7   1', 'M  END']\n",
      "['    2.0408    0.8921   -0.1511 C   0  0  0  0  0  0  0  0  0  0  0  0', '    0.7845    0.3826    0.1589 N   0  0  0  0  0  0  0  0  0  0  0  0', '   -0.3617    1.1812   -0.0238 C   0  0  0  0  0  0  0  0  0  0  0  0', '   -1.4751    0.5494    0.8293 C   0  0  0  0  0  0  0  0  0  0  0  0', '   -1.7939   -0.6914    0.1813 N   0  0  0  0  0  0  0  0  0  0  0  0', '   -0.6691   -1.4809   -0.1650 C   0  0  0  0  0  0  0  0  0  0  0  0', '    0.6210   -0.9659    0.4574 C   0  0  0  0  0  0  0  0  0  0  0  0', '    2.5809    0.3065   -0.9413 H   0  0  0  0  0  0  0  0  0  0  0  0', '    2.6811    0.8973    0.7799 H   0  0  0  0  0  0  0  0  0  0  0  0', '    1.9554    1.9229   -0.5499 H   0  0  0  0  0  0  0  0  0  0  0  0', '   -0.7509    1.1032   -1.0778 H   0  0  0  0  0  0  0  0  0  0  0  0', '   -0.2462    2.2452    0.1907 H   0  0  0  0  0  0  0  0  0  0  0  0', '   -1.0082    0.4124    1.8373 H   0  0  0  0  0  0  0  0  0  0  0  0', '   -2.3395    1.1937    0.9285 H   0  0  0  0  0  0  0  0  0  0  0  0', '   -2.6158   -1.1778    0.5333 H   0  0  0  0  0  0  0  0  0  0  0  0', '   -0.5290   -1.5451   -1.2780 H   0  0  0  0  0  0  0  0  0  0  0  0', '   -0.8550   -2.5264    0.1745 H   0  0  0  0  0  0  0  0  0  0  0  0', '    1.4655   -1.5927    0.1552 H   0  0  0  0  0  0  0  0  0  0  0  0', '    0.5153   -1.1063    1.5699 H   0  0  0  0  0  0  0  0  0  0  0  0', '  1  2  1  0', '  2  3  1  0', '  3  4  1  0', '  4  5  1  0', '  5  6  1  0', '  6  7  1  0', '  7  2  1  0', '  1  8  1  0', '  1  9  1  0', '  1 10  1  0', '  3 11  1  0', '  3 12  1  0', '  4 13  1  0', '  4 14  1  0', '  5 15  1  0', '  6 16  1  0', '  6 17  1  0', '  7 18  1  0', '  7 19  1  0', 'M  END']\n",
      "['    0.6630    1.1540    0.0070 C   0  0  0  0  0  0  0  0  0  0  0  0', '    0.2710   -0.9570    0.0360 C   0  0  0  0  0  0  0  0  0  0  0  0', '    1.8860    0.5460   -0.0280 C   0  0  0  0  0  0  0  0  0  0  0  0', '    0.4420    2.2070    0.0030 H   0  0  0  0  0  0  0  0  0  0  0  0', '   -0.2130   -1.9180    0.0550 H   0  0  0  0  0  0  0  0  0  0  0  0', '    2.8870    0.9350   -0.0640 H   0  0  0  0  0  0  0  0  0  0  0  0', '    1.6210   -0.8050   -0.0090 N   0  0  0  0  0  0  0  0  0  0  0  0', '    2.3010   -1.5440   -0.0280 H   0  0  0  0  0  0  0  0  0  0  0  0', '   -0.3340    0.2070    0.0470 N   0  0  0  0  0  0  0  0  0  0  0  0', '  1  3  1  0', '  1  4  1  0', '  1  9  1  0', '  2  7  1  0', '  2  9  1  0', '  2  5  1  0', '  3  6  1  0', '  3  7  1  0', '  7  8  1  0', 'M  CHG  1   7   1', 'M  END']\n",
      "['   -2.6674   -0.6019    0.4913 N   0  0  0  0  0  0  0  0  0  0  0  0', '   -1.2752   -0.7222    0.0639 C   0  0  0  0  0  0  0  0  0  0  0  0', '   -0.7239    0.6814   -0.0061 C   0  0  0  0  0  0  0  0  0  0  0  0', '    0.6498    0.7430   -0.4158 N   0  0  0  0  0  0  0  0  0  0  0  0', '    1.6700    0.1116    0.3189 C   0  0  0  0  0  0  0  0  0  0  0  0', '    3.0116    0.1823   -0.0978 N   0  0  0  0  0  0  0  0  0  0  0  0', '    1.3796   -0.5198    1.3547 O   0  0  0  0  0  0  0  0  0  0  0  0', '   -2.7257    0.1997    1.1484 H   0  0  0  0  0  0  0  0  0  0  0  0', '   -3.0124   -1.5047    0.9067 H   0  0  0  0  0  0  0  0  0  0  0  0', '   -1.2637   -1.1974   -0.9545 H   0  0  0  0  0  0  0  0  0  0  0  0', '   -0.7297   -1.3500    0.7974 H   0  0  0  0  0  0  0  0  0  0  0  0', '   -1.3721    1.2409   -0.7168 H   0  0  0  0  0  0  0  0  0  0  0  0', '   -0.9012    1.1546    0.9886 H   0  0  0  0  0  0  0  0  0  0  0  0', '    0.9055    1.2671   -1.2786 H   0  0  0  0  0  0  0  0  0  0  0  0', '    3.5016   -0.7410   -0.2689 H   0  0  0  0  0  0  0  0  0  0  0  0', '    3.5534    1.0564   -0.2494 H   0  0  0  0  0  0  0  0  0  0  0  0', '  1  2  1  0', '  2  3  1  0', '  3  4  1  0', '  4  5  1  0', '  5  6  1  0', '  5  7  2  0', '  1  8  1  0', '  1  9  1  0', '  2 10  1  0', '  2 11  1  0', '  3 12  1  0', '  3 13  1  0', '  4 14  1  0', '  6 15  1  0', '  6 16  1  0', 'M  END']\n",
      "['    0.6630    1.1540    0.0070 C   0  0  0  0  0  0  0  0  0  0  0  0', '    0.2710   -0.9570    0.0360 C   0  0  0  0  0  0  0  0  0  0  0  0', '    1.8860    0.5460   -0.0280 C   0  0  0  0  0  0  0  0  0  0  0  0', '    0.4420    2.2070    0.0030 H   0  0  0  0  0  0  0  0  0  0  0  0', '   -0.2130   -1.9180    0.0550 H   0  0  0  0  0  0  0  0  0  0  0  0', '    2.8870    0.9350   -0.0640 H   0  0  0  0  0  0  0  0  0  0  0  0', '    1.6210   -0.8050   -0.0090 N   0  0  0  0  0  0  0  0  0  0  0  0', '    2.3010   -1.5440   -0.0280 H   0  0  0  0  0  0  0  0  0  0  0  0', '   -0.3340    0.2070    0.0470 N   0  0  0  0  0  0  0  0  0  0  0  0', '  1  3  1  0', '  1  4  1  0', '  1  9  1  0', '  2  7  1  0', '  2  9  1  0', '  2  5  1  0', '  3  6  1  0', '  3  7  1  0', '  7  8  1  0', 'M  CHG  1   7   1', 'M  END']\n",
      "['   -2.6929    0.8907   -0.4830 C   0  0  0  0  0  0  0  0  0  0  0  0', '   -1.8829   -0.3160   -0.4266 N   0  0  0  0  0  0  0  0  0  0  0  0', '   -0.5421    0.1032   -0.0484 C   0  0  0  0  0  0  0  0  0  0  0  0', '    0.3921   -1.0843    0.0676 C   0  0  0  0  0  0  0  0  0  0  0  0', '    1.6774   -0.5901    0.4605 N   0  0  0  0  0  0  0  0  0  0  0  0', '    2.4374    0.1849   -0.4373 C   0  0  0  0  0  0  0  0  0  0  0  0', '    3.4991   -0.3488   -0.9267 N   0  0  0  0  0  0  0  0  0  0  0  0', '   -3.7636    0.6393   -0.6324 H   0  0  0  0  0  0  0  0  0  0  0  0', '   -2.5318    1.4079    0.5102 H   0  0  0  0  0  0  0  0  0  0  0  0', '   -2.3232    1.5858   -1.2639 H   0  0  0  0  0  0  0  0  0  0  0  0', '   -2.3078   -0.9948    0.2299 H   0  0  0  0  0  0  0  0  0  0  0  0', '   -0.1866    0.7697   -0.8837 H   0  0  0  0  0  0  0  0  0  0  0  0', '   -0.6125    0.6640    0.8998 H   0  0  0  0  0  0  0  0  0  0  0  0', '   -0.0097   -1.7674    0.8652 H   0  0  0  0  0  0  0  0  0  0  0  0', '    0.4524   -1.6459   -0.8941 H   0  0  0  0  0  0  0  0  0  0  0  0', '    2.0351   -0.8000    1.4031 H   0  0  0  0  0  0  0  0  0  0  0  0', '    2.2046    1.2010   -0.7537 H   0  0  0  0  0  0  0  0  0  0  0  0', '    4.1550    0.1008   -1.5966 H   0  0  0  0  0  0  0  0  0  0  0  0', '  1  2  1  0', '  2  3  1  0', '  3  4  1  0', '  4  5  1  0', '  5  6  1  0', '  6  7  2  3', '  1  8  1  0', '  1  9  1  0', '  1 10  1  0', '  2 11  1  0', '  3 12  1  0', '  3 13  1  0', '  4 14  1  0', '  4 15  1  0', '  5 16  1  0', '  6 17  1  0', '  7 18  1  0', 'M  END']\n",
      "['    0.6630    1.1540    0.0070 C   0  0  0  0  0  0  0  0  0  0  0  0', '    0.2710   -0.9570    0.0360 C   0  0  0  0  0  0  0  0  0  0  0  0', '    1.8860    0.5460   -0.0280 C   0  0  0  0  0  0  0  0  0  0  0  0', '    0.4420    2.2070    0.0030 H   0  0  0  0  0  0  0  0  0  0  0  0', '   -0.2130   -1.9180    0.0550 H   0  0  0  0  0  0  0  0  0  0  0  0', '    2.8870    0.9350   -0.0640 H   0  0  0  0  0  0  0  0  0  0  0  0', '    1.6210   -0.8050   -0.0090 N   0  0  0  0  0  0  0  0  0  0  0  0', '    2.3010   -1.5440   -0.0280 H   0  0  0  0  0  0  0  0  0  0  0  0', '   -0.3340    0.2070    0.0470 N   0  0  0  0  0  0  0  0  0  0  0  0', '  1  3  1  0', '  1  4  1  0', '  1  9  1  0', '  2  7  1  0', '  2  9  1  0', '  2  5  1  0', '  3  6  1  0', '  3  7  1  0', '  7  8  1  0', 'M  CHG  1   7   1', 'M  END']\n",
      "['   -1.6946    0.9868   -0.6503 N   0  0  0  0  0  0  0  0  0  0  0  0', '   -1.2043    0.2530    0.4812 C   0  0  0  0  0  0  0  0  0  0  0  0', '   -0.7041   -1.1050    0.0974 C   0  0  0  0  0  0  0  0  0  0  0  0', '    0.3471   -1.1931   -0.8251 N   0  0  0  0  0  0  0  0  0  0  0  0', '    1.6300   -0.7552   -0.4061 C   0  0  0  0  0  0  0  0  0  0  0  0', '    1.6711    0.6927   -0.2571 C   0  0  0  0  0  0  0  0  0  0  0  0', '    1.7324    1.9143   -0.1504 C   0  0  0  0  0  0  0  0  0  0  0  0', '   -2.5372    1.5377   -0.3708 H   0  0  0  0  0  0  0  0  0  0  0  0', '   -0.9643    1.5260   -1.1116 H   0  0  0  0  0  0  0  0  0  0  0  0', '   -2.1393    0.0417    1.1109 H   0  0  0  0  0  0  0  0  0  0  0  0', '   -0.5411    0.8178    1.1536 H   0  0  0  0  0  0  0  0  0  0  0  0', '   -1.6018   -1.6227   -0.3753 H   0  0  0  0  0  0  0  0  0  0  0  0', '   -0.4375   -1.6758    1.0355 H   0  0  0  0  0  0  0  0  0  0  0  0', '    0.4033   -2.0990   -1.3316 H   0  0  0  0  0  0  0  0  0  0  0  0', '    2.4367   -1.0334   -1.1401 H   0  0  0  0  0  0  0  0  0  0  0  0', '    1.8310   -1.2555    0.5849 H   0  0  0  0  0  0  0  0  0  0  0  0', '    1.7725    2.9697   -0.0488 H   0  0  0  0  0  0  0  0  0  0  0  0', '  1  2  1  0', '  2  3  1  0', '  3  4  1  0', '  4  5  1  0', '  5  6  1  0', '  6  7  3  0', '  1  8  1  0', '  1  9  1  0', '  2 10  1  0', '  2 11  1  0', '  3 12  1  0', '  3 13  1  0', '  4 14  1  0', '  5 15  1  0', '  5 16  1  0', '  7 17  1  0', 'M  END']\n",
      "['    0.6630    1.1540    0.0070 C   0  0  0  0  0  0  0  0  0  0  0  0', '    0.2710   -0.9570    0.0360 C   0  0  0  0  0  0  0  0  0  0  0  0', '    1.8860    0.5460   -0.0280 C   0  0  0  0  0  0  0  0  0  0  0  0', '    0.4420    2.2070    0.0030 H   0  0  0  0  0  0  0  0  0  0  0  0', '   -0.2130   -1.9180    0.0550 H   0  0  0  0  0  0  0  0  0  0  0  0', '    2.8870    0.9350   -0.0640 H   0  0  0  0  0  0  0  0  0  0  0  0', '    1.6210   -0.8050   -0.0090 N   0  0  0  0  0  0  0  0  0  0  0  0', '    2.3010   -1.5440   -0.0280 H   0  0  0  0  0  0  0  0  0  0  0  0', '   -0.3340    0.2070    0.0470 N   0  0  0  0  0  0  0  0  0  0  0  0', '  1  3  1  0', '  1  4  1  0', '  1  9  1  0', '  2  7  1  0', '  2  9  1  0', '  2  5  1  0', '  3  6  1  0', '  3  7  1  0', '  7  8  1  0', 'M  CHG  1   7   1', 'M  END']\n",
      "['    2.0871   -0.0652   -0.0392 C   0  0  0  0  0  0  0  0  0  0  0  0', '    0.6504    0.0903    0.0432 N   0  0  0  0  0  0  0  0  0  0  0  0', '   -0.2853   -0.9954    0.0041 C   0  0  0  0  0  0  0  0  0  0  0  0', '   -1.6618   -0.4126    0.0303 C   0  0  0  0  0  0  0  0  0  0  0  0', '   -1.4816    1.0214   -0.0605 N   0  0  0  0  0  0  0  0  0  0  0  0', '   -0.1157    1.2753    0.1732 C   0  0  0  0  0  0  0  0  0  0  0  0', '    0.3767    2.3929    0.4593 O   0  0  0  0  0  0  0  0  0  0  0  0', '    2.4790   -0.7634    0.6999 H   0  0  0  0  0  0  0  0  0  0  0  0', '    2.5904    0.9235   -0.0352 H   0  0  0  0  0  0  0  0  0  0  0  0', '    2.3238   -0.5101   -1.0494 H   0  0  0  0  0  0  0  0  0  0  0  0', '   -0.0770   -1.6807    0.8463 H   0  0  0  0  0  0  0  0  0  0  0  0', '   -0.1557   -1.5608   -0.9369 H   0  0  0  0  0  0  0  0  0  0  0  0', '   -2.2805   -0.8024   -0.8217 H   0  0  0  0  0  0  0  0  0  0  0  0', '   -2.2276   -0.6445    0.9475 H   0  0  0  0  0  0  0  0  0  0  0  0', '   -2.2222    1.7317   -0.2608 H   0  0  0  0  0  0  0  0  0  0  0  0', '  1  2  1  0', '  2  3  1  0', '  3  4  1  0', '  4  5  1  0', '  5  6  1  0', '  6  7  2  0', '  6  2  1  0', '  1  8  1  0', '  1  9  1  0', '  1 10  1  0', '  3 11  1  0', '  3 12  1  0', '  4 13  1  0', '  4 14  1  0', '  5 15  1  0', 'M  END']\n",
      "['    0.6630    1.1540    0.0070 C   0  0  0  0  0  0  0  0  0  0  0  0', '    0.2710   -0.9570    0.0360 C   0  0  0  0  0  0  0  0  0  0  0  0', '    1.8860    0.5460   -0.0280 C   0  0  0  0  0  0  0  0  0  0  0  0', '    0.4420    2.2070    0.0030 H   0  0  0  0  0  0  0  0  0  0  0  0', '   -0.2130   -1.9180    0.0550 H   0  0  0  0  0  0  0  0  0  0  0  0', '    2.8870    0.9350   -0.0640 H   0  0  0  0  0  0  0  0  0  0  0  0', '    1.6210   -0.8050   -0.0090 N   0  0  0  0  0  0  0  0  0  0  0  0', '    2.3010   -1.5440   -0.0280 H   0  0  0  0  0  0  0  0  0  0  0  0', '   -0.3340    0.2070    0.0470 N   0  0  0  0  0  0  0  0  0  0  0  0', '  1  3  1  0', '  1  4  1  0', '  1  9  1  0', '  2  7  1  0', '  2  9  1  0', '  2  5  1  0', '  3  6  1  0', '  3  7  1  0', '  7  8  1  0', 'M  CHG  1   7   1', 'M  END']\n",
      "['    2.7802   -0.2510    0.1399 N   0  0  0  0  0  0  0  0  0  0  0  0', '    1.8025    0.5510   -0.4164 N   0  0  0  0  0  0  0  0  0  0  0  0', '    0.5461    0.3277   -0.2376 C   0  0  0  0  0  0  0  0  0  0  0  0', '   -0.0482   -0.7197    0.5182 N   0  0  0  0  0  0  0  0  0  0  0  0', '   -1.4644   -0.4201    0.5723 C   0  0  0  0  0  0  0  0  0  0  0  0', '   -1.6822    0.3122   -0.7231 C   0  0  0  0  0  0  0  0  0  0  0  0', '   -0.4920    1.1449   -0.8034 N   0  0  0  0  0  0  0  0  0  0  0  0', '    2.6180   -1.1677    0.6025 H   0  0  0  0  0  0  0  0  0  0  0  0', '    3.7725    0.0849    0.0968 H   0  0  0  0  0  0  0  0  0  0  0  0', '    0.5131   -1.5027    0.9118 H   0  0  0  0  0  0  0  0  0  0  0  0', '   -2.0936   -1.3248    0.6707 H   0  0  0  0  0  0  0  0  0  0  0  0', '   -1.6177    0.3042    1.4012 H   0  0  0  0  0  0  0  0  0  0  0  0', '   -1.6390   -0.3756   -1.5960 H   0  0  0  0  0  0  0  0  0  0  0  0', '   -2.5980    0.9349   -0.7145 H   0  0  0  0  0  0  0  0  0  0  0  0', '   -0.3973    2.1017   -1.1766 H   0  0  0  0  0  0  0  0  0  0  0  0', '  1  2  1  0', '  2  3  2  3', '  3  4  1  0', '  4  5  1  0', '  5  6  1  0', '  6  7  1  0', '  7  3  1  0', '  1  8  1  0', '  1  9  1  0', '  4 10  1  0', '  5 11  1  0', '  5 12  1  0', '  6 13  1  0', '  6 14  1  0', '  7 15  1  0', 'M  END']\n",
      "['    0.6630    1.1540    0.0070 C   0  0  0  0  0  0  0  0  0  0  0  0', '    0.2710   -0.9570    0.0360 C   0  0  0  0  0  0  0  0  0  0  0  0', '    1.8860    0.5460   -0.0280 C   0  0  0  0  0  0  0  0  0  0  0  0', '    0.4420    2.2070    0.0030 H   0  0  0  0  0  0  0  0  0  0  0  0', '   -0.2130   -1.9180    0.0550 H   0  0  0  0  0  0  0  0  0  0  0  0', '    2.8870    0.9350   -0.0640 H   0  0  0  0  0  0  0  0  0  0  0  0', '    1.6210   -0.8050   -0.0090 N   0  0  0  0  0  0  0  0  0  0  0  0', '    2.3010   -1.5440   -0.0280 H   0  0  0  0  0  0  0  0  0  0  0  0', '   -0.3340    0.2070    0.0470 N   0  0  0  0  0  0  0  0  0  0  0  0', '  1  3  1  0', '  1  4  1  0', '  1  9  1  0', '  2  7  1  0', '  2  9  1  0', '  2  5  1  0', '  3  6  1  0', '  3  7  1  0', '  7  8  1  0', 'M  CHG  1   7   1', 'M  END']\n",
      "['   -2.2265    0.8313   -0.6938 C   0  0  0  0  0  0  0  0  0  0  0  0', '   -1.9047    0.4455    0.7337 C   0  0  0  0  0  0  0  0  0  0  0  0', '   -1.2758   -0.8211    0.8449 N   0  0  0  0  0  0  0  0  0  0  0  0', '    0.0475   -0.9475    0.3342 C   0  0  0  0  0  0  0  0  0  0  0  0', '    1.0842   -0.1643    1.1187 C   0  0  0  0  0  0  0  0  0  0  0  0', '    2.3915   -0.3936    0.4980 N   0  0  0  0  0  0  0  0  0  0  0  0', '    2.3501    0.2583   -0.7985 C   0  0  0  0  0  0  0  0  0  0  0  0', '   -2.6622    0.0002   -1.2655 H   0  0  0  0  0  0  0  0  0  0  0  0', '   -2.9222    1.7125   -0.6688 H   0  0  0  0  0  0  0  0  0  0  0  0', '   -1.2972    1.1307   -1.2233 H   0  0  0  0  0  0  0  0  0  0  0  0', '   -1.3979    1.2777    1.2441 H   0  0  0  0  0  0  0  0  0  0  0  0', '   -2.9032    0.3467    1.2517 H   0  0  0  0  0  0  0  0  0  0  0  0', '   -1.3372   -1.2860    1.7712 H   0  0  0  0  0  0  0  0  0  0  0  0', '    0.3207   -2.0415    0.4627 H   0  0  0  0  0  0  0  0  0  0  0  0', '    0.1652   -0.7555   -0.7269 H   0  0  0  0  0  0  0  0  0  0  0  0', '    0.8872    0.9413    1.0132 H   0  0  0  0  0  0  0  0  0  0  0  0', '    1.1220   -0.4990    2.1676 H   0  0  0  0  0  0  0  0  0  0  0  0', '    2.4623   -1.4225    0.3184 H   0  0  0  0  0  0  0  0  0  0  0  0', '    3.1689    1.0083   -0.7672 H   0  0  0  0  0  0  0  0  0  0  0  0', '    2.5054   -0.4445   -1.6336 H   0  0  0  0  0  0  0  0  0  0  0  0', '    1.4219    0.8230   -0.9874 H   0  0  0  0  0  0  0  0  0  0  0  0', '  1  2  1  0', '  2  3  1  0', '  3  4  1  0', '  4  5  1  0', '  5  6  1  0', '  6  7  1  0', '  1  8  1  0', '  1  9  1  0', '  1 10  1  0', '  2 11  1  0', '  2 12  1  0', '  3 13  1  0', '  4 14  1  0', '  4 15  1  0', '  5 16  1  0', '  5 17  1  0', '  6 18  1  0', '  7 19  1  0', '  7 20  1  0', '  7 21  1  0', 'M  END']\n",
      "['    0.6630    1.1540    0.0070 C   0  0  0  0  0  0  0  0  0  0  0  0', '    0.2710   -0.9570    0.0360 C   0  0  0  0  0  0  0  0  0  0  0  0', '    1.8860    0.5460   -0.0280 C   0  0  0  0  0  0  0  0  0  0  0  0', '    0.4420    2.2070    0.0030 H   0  0  0  0  0  0  0  0  0  0  0  0', '   -0.2130   -1.9180    0.0550 H   0  0  0  0  0  0  0  0  0  0  0  0', '    2.8870    0.9350   -0.0640 H   0  0  0  0  0  0  0  0  0  0  0  0', '    1.6210   -0.8050   -0.0090 N   0  0  0  0  0  0  0  0  0  0  0  0', '    2.3010   -1.5440   -0.0280 H   0  0  0  0  0  0  0  0  0  0  0  0', '   -0.3340    0.2070    0.0470 N   0  0  0  0  0  0  0  0  0  0  0  0', '  1  3  1  0', '  1  4  1  0', '  1  9  1  0', '  2  7  1  0', '  2  9  1  0', '  2  5  1  0', '  3  6  1  0', '  3  7  1  0', '  7  8  1  0', 'M  CHG  1   7   1', 'M  END']\n",
      "['   -2.6659   -0.2655   -0.0268 N   0  0  0  0  0  0  0  0  0  0  0  0', '   -1.4517    0.4599   -0.1382 C   0  0  0  0  0  0  0  0  0  0  0  0', '   -0.2207   -0.3765    0.1420 C   0  0  0  0  0  0  0  0  0  0  0  0', '    0.9553    0.4956    0.0216 N   0  0  0  0  0  0  0  0  0  0  0  0', '    2.2494   -0.0567    0.0788 C   0  0  0  0  0  0  0  0  0  0  0  0', '    2.9519   -0.1045   -1.0093 N   0  0  0  0  0  0  0  0  0  0  0  0', '   -2.6256   -1.2848    0.0484 H   0  0  0  0  0  0  0  0  0  0  0  0', '   -3.4856    0.2095    0.3549 H   0  0  0  0  0  0  0  0  0  0  0  0', '   -1.4694    1.3036    0.5958 H   0  0  0  0  0  0  0  0  0  0  0  0', '   -1.3221    0.9487   -1.1484 H   0  0  0  0  0  0  0  0  0  0  0  0', '   -0.1059   -1.1519   -0.6463 H   0  0  0  0  0  0  0  0  0  0  0  0', '   -0.1979   -0.7907    1.1488 H   0  0  0  0  0  0  0  0  0  0  0  0', '    0.7974    1.5454   -0.0992 H   0  0  0  0  0  0  0  0  0  0  0  0', '    2.6728   -0.4344    0.9842 H   0  0  0  0  0  0  0  0  0  0  0  0', '    3.9180   -0.4977   -1.0605 H   0  0  0  0  0  0  0  0  0  0  0  0', '  1  2  1  0', '  2  3  1  0', '  3  4  1  0', '  4  5  1  0', '  5  6  2  3', '  1  7  1  0', '  1  8  1  0', '  2  9  1  0', '  2 10  1  0', '  3 11  1  0', '  3 12  1  0', '  4 13  1  0', '  5 14  1  0', '  6 15  1  0', 'M  END']\n",
      "['    0.6630    1.1540    0.0070 C   0  0  0  0  0  0  0  0  0  0  0  0', '    0.2710   -0.9570    0.0360 C   0  0  0  0  0  0  0  0  0  0  0  0', '    1.8860    0.5460   -0.0280 C   0  0  0  0  0  0  0  0  0  0  0  0', '    0.4420    2.2070    0.0030 H   0  0  0  0  0  0  0  0  0  0  0  0', '   -0.2130   -1.9180    0.0550 H   0  0  0  0  0  0  0  0  0  0  0  0', '    2.8870    0.9350   -0.0640 H   0  0  0  0  0  0  0  0  0  0  0  0', '    1.6210   -0.8050   -0.0090 N   0  0  0  0  0  0  0  0  0  0  0  0', '    2.3010   -1.5440   -0.0280 H   0  0  0  0  0  0  0  0  0  0  0  0', '   -0.3340    0.2070    0.0470 N   0  0  0  0  0  0  0  0  0  0  0  0', '  1  3  1  0', '  1  4  1  0', '  1  9  1  0', '  2  7  1  0', '  2  9  1  0', '  2  5  1  0', '  3  6  1  0', '  3  7  1  0', '  7  8  1  0', 'M  CHG  1   7   1', 'M  END']\n",
      "['    2.6258   -0.3298   -0.0223 C   0  0  0  0  0  0  0  0  0  0  0  0', '    1.5643    0.0594    0.8684 N   0  0  0  0  0  0  0  0  0  0  0  0', '    0.3416    0.1010    0.4787 C   0  0  0  0  0  0  0  0  0  0  0  0', '   -0.7808    0.4705    1.2743 N   0  0  0  0  0  0  0  0  0  0  0  0', '   -1.8767    0.7019    0.3453 C   0  0  0  0  0  0  0  0  0  0  0  0', '   -1.5615   -0.3380   -0.7212 C   0  0  0  0  0  0  0  0  0  0  0  0', '   -0.1233   -0.2163   -0.8290 N   0  0  0  0  0  0  0  0  0  0  0  0', '    2.6874    0.4036   -0.8455 H   0  0  0  0  0  0  0  0  0  0  0  0', '    3.5647   -0.4130    0.5663 H   0  0  0  0  0  0  0  0  0  0  0  0', '    2.4174   -1.3275   -0.4733 H   0  0  0  0  0  0  0  0  0  0  0  0', '   -0.7587    0.5432    2.3136 H   0  0  0  0  0  0  0  0  0  0  0  0', '   -1.8365    1.6889   -0.1252 H   0  0  0  0  0  0  0  0  0  0  0  0', '   -2.8618    0.4518    0.7914 H   0  0  0  0  0  0  0  0  0  0  0  0', '   -2.0899   -0.1417   -1.6666 H   0  0  0  0  0  0  0  0  0  0  0  0', '   -1.8015   -1.3219   -0.2700 H   0  0  0  0  0  0  0  0  0  0  0  0', '    0.4897   -0.3321   -1.6850 H   0  0  0  0  0  0  0  0  0  0  0  0', '  1  2  1  0', '  2  3  2  3', '  3  4  1  0', '  4  5  1  0', '  5  6  1  0', '  6  7  1  0', '  7  3  1  0', '  1  8  1  0', '  1  9  1  0', '  1 10  1  0', '  4 11  1  0', '  5 12  1  0', '  5 13  1  0', '  6 14  1  0', '  6 15  1  0', '  7 16  1  0', 'M  END']\n",
      "['    0.6630    1.1540    0.0070 C   0  0  0  0  0  0  0  0  0  0  0  0', '    0.2710   -0.9570    0.0360 C   0  0  0  0  0  0  0  0  0  0  0  0', '    1.8860    0.5460   -0.0280 C   0  0  0  0  0  0  0  0  0  0  0  0', '    0.4420    2.2070    0.0030 H   0  0  0  0  0  0  0  0  0  0  0  0', '   -0.2130   -1.9180    0.0550 H   0  0  0  0  0  0  0  0  0  0  0  0', '    2.8870    0.9350   -0.0640 H   0  0  0  0  0  0  0  0  0  0  0  0', '    1.6210   -0.8050   -0.0090 N   0  0  0  0  0  0  0  0  0  0  0  0', '    2.3010   -1.5440   -0.0280 H   0  0  0  0  0  0  0  0  0  0  0  0', '   -0.3340    0.2070    0.0470 N   0  0  0  0  0  0  0  0  0  0  0  0', '  1  3  1  0', '  1  4  1  0', '  1  9  1  0', '  2  7  1  0', '  2  9  1  0', '  2  5  1  0', '  3  6  1  0', '  3  7  1  0', '  7  8  1  0', 'M  CHG  1   7   1', 'M  END']\n",
      "['   -2.5698    0.3785   -0.4101 C   0  0  0  0  0  0  0  0  0  0  0  0', '   -1.1289    0.3541   -0.6974 N   0  0  0  0  0  0  0  0  0  0  0  0', '   -0.5705   -0.6853    0.1605 C   0  0  0  0  0  0  0  0  0  0  0  0', '    0.8961   -0.7635   -0.0817 C   0  0  0  0  0  0  0  0  0  0  0  0', '    1.5133    0.5094    0.2274 N   0  0  0  0  0  0  0  0  0  0  0  0', '    2.9263    0.6876    0.0738 C   0  0  0  0  0  0  0  0  0  0  0  0', '    3.6828   -0.2109   -0.3213 O   0  0  0  0  0  0  0  0  0  0  0  0', '   -3.0567    1.2710   -0.8395 H   0  0  0  0  0  0  0  0  0  0  0  0', '   -2.9776   -0.5778   -0.7673 H   0  0  0  0  0  0  0  0  0  0  0  0', '   -2.6259    0.4693    0.7133 H   0  0  0  0  0  0  0  0  0  0  0  0', '   -0.9773    0.1683   -1.7036 H   0  0  0  0  0  0  0  0  0  0  0  0', '   -1.1049   -1.6347    0.0319 H   0  0  0  0  0  0  0  0  0  0  0  0', '   -0.7280   -0.3106    1.2107 H   0  0  0  0  0  0  0  0  0  0  0  0', '    1.0585   -1.0212   -1.1648 H   0  0  0  0  0  0  0  0  0  0  0  0', '    1.3753   -1.5850    0.4887 H   0  0  0  0  0  0  0  0  0  0  0  0', '    0.9268    1.3031    0.5643 H   0  0  0  0  0  0  0  0  0  0  0  0', '    3.3605    1.6479    0.3116 H   0  0  0  0  0  0  0  0  0  0  0  0', '  1  2  1  0', '  2  3  1  0', '  3  4  1  0', '  4  5  1  0', '  5  6  1  0', '  6  7  2  0', '  1  8  1  0', '  1  9  1  0', '  1 10  1  0', '  2 11  1  0', '  3 12  1  0', '  3 13  1  0', '  4 14  1  0', '  4 15  1  0', '  5 16  1  0', '  6 17  1  0', 'M  END']\n",
      "['    0.6630    1.1540    0.0070 C   0  0  0  0  0  0  0  0  0  0  0  0', '    0.2710   -0.9570    0.0360 C   0  0  0  0  0  0  0  0  0  0  0  0', '    1.8860    0.5460   -0.0280 C   0  0  0  0  0  0  0  0  0  0  0  0', '    0.4420    2.2070    0.0030 H   0  0  0  0  0  0  0  0  0  0  0  0', '   -0.2130   -1.9180    0.0550 H   0  0  0  0  0  0  0  0  0  0  0  0', '    2.8870    0.9350   -0.0640 H   0  0  0  0  0  0  0  0  0  0  0  0', '    1.6210   -0.8050   -0.0090 N   0  0  0  0  0  0  0  0  0  0  0  0', '    2.3010   -1.5440   -0.0280 H   0  0  0  0  0  0  0  0  0  0  0  0', '   -0.3340    0.2070    0.0470 N   0  0  0  0  0  0  0  0  0  0  0  0', '  1  3  1  0', '  1  4  1  0', '  1  9  1  0', '  2  7  1  0', '  2  9  1  0', '  2  5  1  0', '  3  6  1  0', '  3  7  1  0', '  7  8  1  0', 'M  CHG  1   7   1', 'M  END']\n",
      "['   -2.4198    0.4269    0.7428 C   0  0  0  0  0  0  0  0  0  0  0  0', '   -0.9583    0.0197    0.5697 C   0  0  0  0  0  0  0  0  0  0  0  0', '   -0.6407   -0.3387   -0.7600 N   0  0  0  0  0  0  0  0  0  0  0  0', '    0.6426   -0.8872   -0.9394 C   0  0  0  0  0  0  0  0  0  0  0  0', '    1.7960    0.0573   -0.7229 C   0  0  0  0  0  0  0  0  0  0  0  0', '    1.8736    0.6052    0.5925 N   0  0  0  0  0  0  0  0  0  0  0  0', '   -3.0654   -0.4818    0.7648 H   0  0  0  0  0  0  0  0  0  0  0  0', '   -2.4757    0.9653    1.7159 H   0  0  0  0  0  0  0  0  0  0  0  0', '   -2.7669    1.0616   -0.0688 H   0  0  0  0  0  0  0  0  0  0  0  0', '   -0.7249   -0.7318    1.3308 H   0  0  0  0  0  0  0  0  0  0  0  0', '   -0.3718    0.9399    0.8329 H   0  0  0  0  0  0  0  0  0  0  0  0', '   -1.3902   -0.5871   -1.3960 H   0  0  0  0  0  0  0  0  0  0  0  0', '    0.8232   -1.7371   -0.2043 H   0  0  0  0  0  0  0  0  0  0  0  0', '    0.7412   -1.3506   -1.9607 H   0  0  0  0  0  0  0  0  0  0  0  0', '    2.7190   -0.5754   -0.8881 H   0  0  0  0  0  0  0  0  0  0  0  0', '    1.7535    0.8585   -1.5042 H   0  0  0  0  0  0  0  0  0  0  0  0', '    1.9276    1.6382    0.6519 H   0  0  0  0  0  0  0  0  0  0  0  0', '    2.5372    0.1170    1.2429 H   0  0  0  0  0  0  0  0  0  0  0  0', '  1  2  1  0', '  2  3  1  0', '  3  4  1  0', '  4  5  1  0', '  5  6  1  0', '  1  7  1  0', '  1  8  1  0', '  1  9  1  0', '  2 10  1  0', '  2 11  1  0', '  3 12  1  0', '  4 13  1  0', '  4 14  1  0', '  5 15  1  0', '  5 16  1  0', '  6 17  1  0', '  6 18  1  0', 'M  END']\n",
      "['    0.6630    1.1540    0.0070 C   0  0  0  0  0  0  0  0  0  0  0  0', '    0.2710   -0.9570    0.0360 C   0  0  0  0  0  0  0  0  0  0  0  0', '    1.8860    0.5460   -0.0280 C   0  0  0  0  0  0  0  0  0  0  0  0', '    0.4420    2.2070    0.0030 H   0  0  0  0  0  0  0  0  0  0  0  0', '   -0.2130   -1.9180    0.0550 H   0  0  0  0  0  0  0  0  0  0  0  0', '    2.8870    0.9350   -0.0640 H   0  0  0  0  0  0  0  0  0  0  0  0', '    1.6210   -0.8050   -0.0090 N   0  0  0  0  0  0  0  0  0  0  0  0', '    2.3010   -1.5440   -0.0280 H   0  0  0  0  0  0  0  0  0  0  0  0', '   -0.3340    0.2070    0.0470 N   0  0  0  0  0  0  0  0  0  0  0  0', '  1  3  1  0', '  1  4  1  0', '  1  9  1  0', '  2  7  1  0', '  2  9  1  0', '  2  5  1  0', '  3  6  1  0', '  3  7  1  0', '  7  8  1  0', 'M  CHG  1   7   1', 'M  END']\n",
      "['    2.9660   -0.0950    0.4742 O   0  0  0  0  0  0  0  0  0  0  0  0', '    2.0377   -0.5921   -0.3938 N   0  0  0  0  0  0  0  0  0  0  0  0', '    0.7547   -0.4011   -0.2004 C   0  0  0  0  0  0  0  0  0  0  0  0', '   -0.3213   -0.8489   -1.0030 N   0  0  0  0  0  0  0  0  0  0  0  0', '   -1.5577   -0.3875   -0.3989 C   0  0  0  0  0  0  0  0  0  0  0  0', '   -1.0906    0.8025    0.4119 C   0  0  0  0  0  0  0  0  0  0  0  0', '    0.2051    0.3183    0.8940 N   0  0  0  0  0  0  0  0  0  0  0  0', '    3.5666    0.6743    0.1499 H   0  0  0  0  0  0  0  0  0  0  0  0', '   -0.2357   -1.4131   -1.8772 H   0  0  0  0  0  0  0  0  0  0  0  0', '   -2.3042   -0.0765   -1.1553 H   0  0  0  0  0  0  0  0  0  0  0  0', '   -1.9562   -1.1347    0.3142 H   0  0  0  0  0  0  0  0  0  0  0  0', '   -0.9126    1.6312   -0.2886 H   0  0  0  0  0  0  0  0  0  0  0  0', '   -1.7770    1.0470    1.2281 H   0  0  0  0  0  0  0  0  0  0  0  0', '    0.6251    0.4757    1.8450 H   0  0  0  0  0  0  0  0  0  0  0  0', '  1  2  1  0', '  2  3  2  3', '  3  4  1  0', '  4  5  1  0', '  5  6  1  0', '  6  7  1  0', '  7  3  1  0', '  1  8  1  0', '  4  9  1  0', '  5 10  1  0', '  5 11  1  0', '  6 12  1  0', '  6 13  1  0', '  7 14  1  0', 'M  END']\n",
      "['    0.6630    1.1540    0.0070 C   0  0  0  0  0  0  0  0  0  0  0  0', '    0.2710   -0.9570    0.0360 C   0  0  0  0  0  0  0  0  0  0  0  0', '    1.8860    0.5460   -0.0280 C   0  0  0  0  0  0  0  0  0  0  0  0', '    0.4420    2.2070    0.0030 H   0  0  0  0  0  0  0  0  0  0  0  0', '   -0.2130   -1.9180    0.0550 H   0  0  0  0  0  0  0  0  0  0  0  0', '    2.8870    0.9350   -0.0640 H   0  0  0  0  0  0  0  0  0  0  0  0', '    1.6210   -0.8050   -0.0090 N   0  0  0  0  0  0  0  0  0  0  0  0', '    2.3010   -1.5440   -0.0280 H   0  0  0  0  0  0  0  0  0  0  0  0', '   -0.3340    0.2070    0.0470 N   0  0  0  0  0  0  0  0  0  0  0  0', '  1  3  1  0', '  1  4  1  0', '  1  9  1  0', '  2  7  1  0', '  2  9  1  0', '  2  5  1  0', '  3  6  1  0', '  3  7  1  0', '  7  8  1  0', 'M  CHG  1   7   1', 'M  END']\n",
      "['    2.6019   -1.3962   -0.1989 N   0  0  0  0  0  0  0  0  0  0  0  0', '    2.2483   -0.4932    0.8582 C   0  0  0  0  0  0  0  0  0  0  0  0', '    1.2032    0.4934    0.3592 C   0  0  0  0  0  0  0  0  0  0  0  0', '   -0.0065   -0.1806   -0.0789 N   0  0  0  0  0  0  0  0  0  0  0  0', '   -0.9240    0.8858   -0.4822 C   0  0  0  0  0  0  0  0  0  0  0  0', '   -2.2710    0.3122   -0.8607 C   0  0  0  0  0  0  0  0  0  0  0  0', '   -2.7946   -0.3717    0.2753 N   0  0  0  0  0  0  0  0  0  0  0  0', '    3.6365   -1.2771   -0.4383 H   0  0  0  0  0  0  0  0  0  0  0  0', '    2.0883   -1.1938   -1.0962 H   0  0  0  0  0  0  0  0  0  0  0  0', '    3.1471    0.0743    1.1709 H   0  0  0  0  0  0  0  0  0  0  0  0', '    1.8051   -1.0459    1.7390 H   0  0  0  0  0  0  0  0  0  0  0  0', '    0.8949    1.1788    1.1697 H   0  0  0  0  0  0  0  0  0  0  0  0', '    1.6015    1.0608   -0.5112 H   0  0  0  0  0  0  0  0  0  0  0  0', '   -0.4814   -0.7072    0.6845 H   0  0  0  0  0  0  0  0  0  0  0  0', '   -1.0015    1.5753    0.3737 H   0  0  0  0  0  0  0  0  0  0  0  0', '   -0.4777    1.4308   -1.3164 H   0  0  0  0  0  0  0  0  0  0  0  0', '   -2.1493   -0.4131   -1.6854 H   0  0  0  0  0  0  0  0  0  0  0  0', '   -2.8859    1.1541   -1.2159 H   0  0  0  0  0  0  0  0  0  0  0  0', '   -3.2779   -1.2535    0.1302 H   0  0  0  0  0  0  0  0  0  0  0  0', '   -2.9566    0.1668    1.1235 H   0  0  0  0  0  0  0  0  0  0  0  0', '  1  2  1  0', '  2  3  1  0', '  3  4  1  0', '  4  5  1  0', '  5  6  1  0', '  6  7  1  0', '  1  8  1  0', '  1  9  1  0', '  2 10  1  0', '  2 11  1  0', '  3 12  1  0', '  3 13  1  0', '  4 14  1  0', '  5 15  1  0', '  5 16  1  0', '  6 17  1  0', '  6 18  1  0', '  7 19  1  0', '  7 20  1  0', 'M  END']\n",
      "['    0.6630    1.1540    0.0070 C   0  0  0  0  0  0  0  0  0  0  0  0', '    0.2710   -0.9570    0.0360 C   0  0  0  0  0  0  0  0  0  0  0  0', '    1.8860    0.5460   -0.0280 C   0  0  0  0  0  0  0  0  0  0  0  0', '    0.4420    2.2070    0.0030 H   0  0  0  0  0  0  0  0  0  0  0  0', '   -0.2130   -1.9180    0.0550 H   0  0  0  0  0  0  0  0  0  0  0  0', '    2.8870    0.9350   -0.0640 H   0  0  0  0  0  0  0  0  0  0  0  0', '    1.6210   -0.8050   -0.0090 N   0  0  0  0  0  0  0  0  0  0  0  0', '    2.3010   -1.5440   -0.0280 H   0  0  0  0  0  0  0  0  0  0  0  0', '   -0.3340    0.2070    0.0470 N   0  0  0  0  0  0  0  0  0  0  0  0', '  1  3  1  0', '  1  4  1  0', '  1  9  1  0', '  2  7  1  0', '  2  9  1  0', '  2  5  1  0', '  3  6  1  0', '  3  7  1  0', '  7  8  1  0', 'M  CHG  1   7   1', 'M  END']\n",
      "['    3.0070   -0.5572   -0.4488 C   0  0  0  0  0  0  0  0  0  0  0  0', '    1.6004   -0.5411   -0.2609 N   0  0  0  0  0  0  0  0  0  0  0  0', '    1.0318    0.5359    0.4485 C   0  0  0  0  0  0  0  0  0  0  0  0', '   -0.3394    0.2557    0.9354 C   0  0  0  0  0  0  0  0  0  0  0  0', '   -1.2991    0.0399   -0.0715 N   0  0  0  0  0  0  0  0  0  0  0  0', '   -1.7283    1.1717   -0.8403 C   0  0  0  0  0  0  0  0  0  0  0  0', '   -2.2622   -0.9682    0.1635 C   0  0  0  0  0  0  0  0  0  0  0  0', '    3.3843    0.4922   -0.5779 H   0  0  0  0  0  0  0  0  0  0  0  0', '    3.5146   -0.9174    0.5245 H   0  0  0  0  0  0  0  0  0  0  0  0', '    3.3187   -1.1388   -1.3149 H   0  0  0  0  0  0  0  0  0  0  0  0', '    1.0448   -1.3172   -0.5501 H   0  0  0  0  0  0  0  0  0  0  0  0', '    1.6929    0.6996    1.3693 H   0  0  0  0  0  0  0  0  0  0  0  0', '    1.1181    1.5049   -0.1085 H   0  0  0  0  0  0  0  0  0  0  0  0', '   -0.6253    0.9200    1.7764 H   0  0  0  0  0  0  0  0  0  0  0  0', '   -0.2583   -0.7559    1.5039 H   0  0  0  0  0  0  0  0  0  0  0  0', '   -2.6454    0.8156   -1.4029 H   0  0  0  0  0  0  0  0  0  0  0  0', '   -1.0031    1.4796   -1.6098 H   0  0  0  0  0  0  0  0  0  0  0  0', '   -2.0159    2.0324   -0.2309 H   0  0  0  0  0  0  0  0  0  0  0  0', '   -3.0809   -0.8476   -0.5495 H   0  0  0  0  0  0  0  0  0  0  0  0', '   -2.6644   -0.9499    1.2117 H   0  0  0  0  0  0  0  0  0  0  0  0', '   -1.7905   -1.9545    0.0329 H   0  0  0  0  0  0  0  0  0  0  0  0', '  1  2  1  0', '  2  3  1  0', '  3  4  1  0', '  4  5  1  0', '  5  6  1  0', '  5  7  1  0', '  1  8  1  0', '  1  9  1  0', '  1 10  1  0', '  2 11  1  0', '  3 12  1  0', '  3 13  1  0', '  4 14  1  0', '  4 15  1  0', '  6 16  1  0', '  6 17  1  0', '  6 18  1  0', '  7 19  1  0', '  7 20  1  0', '  7 21  1  0', 'M  END']\n",
      "['    0.6630    1.1540    0.0070 C   0  0  0  0  0  0  0  0  0  0  0  0', '    0.2710   -0.9570    0.0360 C   0  0  0  0  0  0  0  0  0  0  0  0', '    1.8860    0.5460   -0.0280 C   0  0  0  0  0  0  0  0  0  0  0  0', '    0.4420    2.2070    0.0030 H   0  0  0  0  0  0  0  0  0  0  0  0', '   -0.2130   -1.9180    0.0550 H   0  0  0  0  0  0  0  0  0  0  0  0', '    2.8870    0.9350   -0.0640 H   0  0  0  0  0  0  0  0  0  0  0  0', '    1.6210   -0.8050   -0.0090 N   0  0  0  0  0  0  0  0  0  0  0  0', '    2.3010   -1.5440   -0.0280 H   0  0  0  0  0  0  0  0  0  0  0  0', '   -0.3340    0.2070    0.0470 N   0  0  0  0  0  0  0  0  0  0  0  0', '  1  3  1  0', '  1  4  1  0', '  1  9  1  0', '  2  7  1  0', '  2  9  1  0', '  2  5  1  0', '  3  6  1  0', '  3  7  1  0', '  7  8  1  0', 'M  CHG  1   7   1', 'M  END']\n",
      "['    1.0889   -0.9020    0.1954 C   0  0  0  0  0  0  0  0  0  0  0  0', '    1.1691    0.6014    0.3516 C   0  0  0  0  0  0  0  0  0  0  0  0', '   -0.0530    1.2538    0.4618 N   0  0  0  0  0  0  0  0  0  0  0  0', '   -1.0950    0.7970   -0.3685 C   0  0  0  0  0  0  0  0  0  0  0  0', '   -1.2992   -0.6887   -0.0414 C   0  0  0  0  0  0  0  0  0  0  0  0', '   -0.0794   -1.3474   -0.4837 N   0  0  0  0  0  0  0  0  0  0  0  0', '    1.2111   -1.3780    1.2071 H   0  0  0  0  0  0  0  0  0  0  0  0', '    1.9770   -1.2119   -0.4033 H   0  0  0  0  0  0  0  0  0  0  0  0', '    1.7419    1.0277   -0.5233 H   0  0  0  0  0  0  0  0  0  0  0  0', '    1.8082    0.7961    1.2449 H   0  0  0  0  0  0  0  0  0  0  0  0', '   -0.2179    1.9684    1.1373 H   0  0  0  0  0  0  0  0  0  0  0  0', '   -0.7302    0.7952   -1.4372 H   0  0  0  0  0  0  0  0  0  0  0  0', '   -2.0081    1.3693   -0.3254 H   0  0  0  0  0  0  0  0  0  0  0  0', '   -2.1543   -1.0949   -0.5700 H   0  0  0  0  0  0  0  0  0  0  0  0', '   -1.3867   -0.7600    1.0630 H   0  0  0  0  0  0  0  0  0  0  0  0', '    0.0275   -1.2261   -1.5084 H   0  0  0  0  0  0  0  0  0  0  0  0', '  1  2  1  0', '  2  3  1  0', '  3  4  1  0', '  4  5  1  0', '  5  6  1  0', '  6  1  1  0', '  1  7  1  0', '  1  8  1  0', '  2  9  1  0', '  2 10  1  0', '  3 11  1  0', '  4 12  1  0', '  4 13  1  0', '  5 14  1  0', '  5 15  1  0', '  6 16  1  0', 'M  END']\n",
      "['    0.6630    1.1540    0.0070 C   0  0  0  0  0  0  0  0  0  0  0  0', '    0.2710   -0.9570    0.0360 C   0  0  0  0  0  0  0  0  0  0  0  0', '    1.8860    0.5460   -0.0280 C   0  0  0  0  0  0  0  0  0  0  0  0', '    0.4420    2.2070    0.0030 H   0  0  0  0  0  0  0  0  0  0  0  0', '   -0.2130   -1.9180    0.0550 H   0  0  0  0  0  0  0  0  0  0  0  0', '    2.8870    0.9350   -0.0640 H   0  0  0  0  0  0  0  0  0  0  0  0', '    1.6210   -0.8050   -0.0090 N   0  0  0  0  0  0  0  0  0  0  0  0', '    2.3010   -1.5440   -0.0280 H   0  0  0  0  0  0  0  0  0  0  0  0', '   -0.3340    0.2070    0.0470 N   0  0  0  0  0  0  0  0  0  0  0  0', '  1  3  1  0', '  1  4  1  0', '  1  9  1  0', '  2  7  1  0', '  2  9  1  0', '  2  5  1  0', '  3  6  1  0', '  3  7  1  0', '  7  8  1  0', 'M  CHG  1   7   1', 'M  END']\n",
      "['    2.3767    0.3683   -0.0954 N   0  0  0  0  0  0  0  0  0  0  0  0', '    1.0787    0.1895   -0.0589 C   0  0  0  0  0  0  0  0  0  0  0  0', '    0.1372    1.2213    0.2485 N   0  0  0  0  0  0  0  0  0  0  0  0', '   -1.0888    0.5183    0.5766 C   0  0  0  0  0  0  0  0  0  0  0  0', '   -1.0197   -0.6459   -0.3914 C   0  0  0  0  0  0  0  0  0  0  0  0', '    0.3770   -1.0226   -0.3088 N   0  0  0  0  0  0  0  0  0  0  0  0', '    2.9810   -0.4518   -0.3309 H   0  0  0  0  0  0  0  0  0  0  0  0', '    0.3471    2.2421    0.2240 H   0  0  0  0  0  0  0  0  0  0  0  0', '   -1.9857    1.1408    0.4112 H   0  0  0  0  0  0  0  0  0  0  0  0', '   -1.0484    0.1310    1.6355 H   0  0  0  0  0  0  0  0  0  0  0  0', '   -1.6899   -1.4728   -0.1002 H   0  0  0  0  0  0  0  0  0  0  0  0', '   -1.2478   -0.2424   -1.3999 H   0  0  0  0  0  0  0  0  0  0  0  0', '    0.7827   -1.9756   -0.4102 H   0  0  0  0  0  0  0  0  0  0  0  0', '  1  2  2  3', '  2  3  1  0', '  3  4  1  0', '  4  5  1  0', '  5  6  1  0', '  6  2  1  0', '  1  7  1  0', '  3  8  1  0', '  4  9  1  0', '  4 10  1  0', '  5 11  1  0', '  5 12  1  0', '  6 13  1  0', 'M  END']\n",
      "['    0.6630    1.1540    0.0070 C   0  0  0  0  0  0  0  0  0  0  0  0', '    0.2710   -0.9570    0.0360 C   0  0  0  0  0  0  0  0  0  0  0  0', '    1.8860    0.5460   -0.0280 C   0  0  0  0  0  0  0  0  0  0  0  0', '    0.4420    2.2070    0.0030 H   0  0  0  0  0  0  0  0  0  0  0  0', '   -0.2130   -1.9180    0.0550 H   0  0  0  0  0  0  0  0  0  0  0  0', '    2.8870    0.9350   -0.0640 H   0  0  0  0  0  0  0  0  0  0  0  0', '    1.6210   -0.8050   -0.0090 N   0  0  0  0  0  0  0  0  0  0  0  0', '    2.3010   -1.5440   -0.0280 H   0  0  0  0  0  0  0  0  0  0  0  0', '   -0.3340    0.2070    0.0470 N   0  0  0  0  0  0  0  0  0  0  0  0', '  1  3  1  0', '  1  4  1  0', '  1  9  1  0', '  2  7  1  0', '  2  9  1  0', '  2  5  1  0', '  3  6  1  0', '  3  7  1  0', '  7  8  1  0', 'M  CHG  1   7   1', 'M  END']\n",
      "['   -1.8012    0.0538   -0.4399 N   0  0  0  0  0  0  0  0  0  0  0  0', '   -1.1314   -0.6425    0.6497 C   0  0  0  0  0  0  0  0  0  0  0  0', '    0.1838    0.0573    0.8733 C   0  0  0  0  0  0  0  0  0  0  0  0', '    0.9684   -0.0041   -0.3282 N   0  0  0  0  0  0  0  0  0  0  0  0', '    2.2448    0.5903   -0.3471 C   0  0  0  0  0  0  0  0  0  0  0  0', '    2.6932    1.1612    0.6559 O   0  0  0  0  0  0  0  0  0  0  0  0', '   -2.2334    0.9273   -0.0821 H   0  0  0  0  0  0  0  0  0  0  0  0', '   -2.4567   -0.5560   -0.9639 H   0  0  0  0  0  0  0  0  0  0  0  0', '   -0.9599   -1.6774    0.2913 H   0  0  0  0  0  0  0  0  0  0  0  0', '   -1.7467   -0.7039    1.5479 H   0  0  0  0  0  0  0  0  0  0  0  0', '    0.7571   -0.4081    1.7259 H   0  0  0  0  0  0  0  0  0  0  0  0', '    0.0510    1.1331    1.1175 H   0  0  0  0  0  0  0  0  0  0  0  0', '    0.5882   -0.4813   -1.1595 H   0  0  0  0  0  0  0  0  0  0  0  0', '    2.8427    0.5503   -1.2439 H   0  0  0  0  0  0  0  0  0  0  0  0', '  1  2  1  0', '  2  3  1  0', '  3  4  1  0', '  4  5  1  0', '  5  6  2  0', '  1  7  1  0', '  1  8  1  0', '  2  9  1  0', '  2 10  1  0', '  3 11  1  0', '  3 12  1  0', '  4 13  1  0', '  5 14  1  0', 'M  END']\n",
      "['    0.6630    1.1540    0.0070 C   0  0  0  0  0  0  0  0  0  0  0  0', '    0.2710   -0.9570    0.0360 C   0  0  0  0  0  0  0  0  0  0  0  0', '    1.8860    0.5460   -0.0280 C   0  0  0  0  0  0  0  0  0  0  0  0', '    0.4420    2.2070    0.0030 H   0  0  0  0  0  0  0  0  0  0  0  0', '   -0.2130   -1.9180    0.0550 H   0  0  0  0  0  0  0  0  0  0  0  0', '    2.8870    0.9350   -0.0640 H   0  0  0  0  0  0  0  0  0  0  0  0', '    1.6210   -0.8050   -0.0090 N   0  0  0  0  0  0  0  0  0  0  0  0', '    2.3010   -1.5440   -0.0280 H   0  0  0  0  0  0  0  0  0  0  0  0', '   -0.3340    0.2070    0.0470 N   0  0  0  0  0  0  0  0  0  0  0  0', '  1  3  1  0', '  1  4  1  0', '  1  9  1  0', '  2  7  1  0', '  2  9  1  0', '  2  5  1  0', '  3  6  1  0', '  3  7  1  0', '  7  8  1  0', 'M  CHG  1   7   1', 'M  END']\n",
      "['    2.3039   -0.0698    0.0551 C   0  0  0  0  0  0  0  0  0  0  0  0', '    1.0800    0.5981   -0.3393 N   0  0  0  0  0  0  0  0  0  0  0  0', '   -0.0273   -0.1834    0.1467 C   0  0  0  0  0  0  0  0  0  0  0  0', '   -1.3631    0.4310   -0.2318 C   0  0  0  0  0  0  0  0  0  0  0  0', '   -2.3833   -0.4401    0.3115 N   0  0  0  0  0  0  0  0  0  0  0  0', '    2.6590   -0.7541   -0.7552 H   0  0  0  0  0  0  0  0  0  0  0  0', '    2.0969   -0.7027    0.9268 H   0  0  0  0  0  0  0  0  0  0  0  0', '    3.1023    0.6692    0.3216 H   0  0  0  0  0  0  0  0  0  0  0  0', '    1.0846    0.6979   -1.3789 H   0  0  0  0  0  0  0  0  0  0  0  0', '    0.0767   -0.3129    1.2195 H   0  0  0  0  0  0  0  0  0  0  0  0', '    0.0182   -1.1729   -0.3517 H   0  0  0  0  0  0  0  0  0  0  0  0', '   -1.4696    1.4698    0.1436 H   0  0  0  0  0  0  0  0  0  0  0  0', '   -1.4976    0.4285   -1.3372 H   0  0  0  0  0  0  0  0  0  0  0  0', '   -2.3553   -0.3618    1.3599 H   0  0  0  0  0  0  0  0  0  0  0  0', '   -3.3255   -0.2970   -0.0907 H   0  0  0  0  0  0  0  0  0  0  0  0', '  1  2  1  0', '  2  3  1  0', '  3  4  1  0', '  4  5  1  0', '  1  6  1  0', '  1  7  1  0', '  1  8  1  0', '  2  9  1  0', '  3 10  1  0', '  3 11  1  0', '  4 12  1  0', '  4 13  1  0', '  5 14  1  0', '  5 15  1  0', 'M  END']\n",
      "['    0.6630    1.1540    0.0070 C   0  0  0  0  0  0  0  0  0  0  0  0', '    0.2710   -0.9570    0.0360 C   0  0  0  0  0  0  0  0  0  0  0  0', '    1.8860    0.5460   -0.0280 C   0  0  0  0  0  0  0  0  0  0  0  0', '    0.4420    2.2070    0.0030 H   0  0  0  0  0  0  0  0  0  0  0  0', '   -0.2130   -1.9180    0.0550 H   0  0  0  0  0  0  0  0  0  0  0  0', '    2.8870    0.9350   -0.0640 H   0  0  0  0  0  0  0  0  0  0  0  0', '    1.6210   -0.8050   -0.0090 N   0  0  0  0  0  0  0  0  0  0  0  0', '    2.3010   -1.5440   -0.0280 H   0  0  0  0  0  0  0  0  0  0  0  0', '   -0.3340    0.2070    0.0470 N   0  0  0  0  0  0  0  0  0  0  0  0', '  1  3  1  0', '  1  4  1  0', '  1  9  1  0', '  2  7  1  0', '  2  9  1  0', '  2  5  1  0', '  3  6  1  0', '  3  7  1  0', '  7  8  1  0', 'M  CHG  1   7   1', 'M  END']\n",
      "['    2.7934    0.6684   -0.2851 C   0  0  0  0  0  0  0  0  0  0  0  0', '    1.4335    0.7898    0.2419 N   0  0  0  0  0  0  0  0  0  0  0  0', '    0.7769   -0.4470   -0.0357 C   0  0  0  0  0  0  0  0  0  0  0  0', '   -0.6511   -0.5585    0.3617 C   0  0  0  0  0  0  0  0  0  0  0  0', '   -1.5327    0.3809   -0.3245 N   0  0  0  0  0  0  0  0  0  0  0  0', '   -2.8997   -0.1108   -0.0650 C   0  0  0  0  0  0  0  0  0  0  0  0', '    3.5259    1.2947    0.2466 H   0  0  0  0  0  0  0  0  0  0  0  0', '    2.7224    1.0696   -1.3375 H   0  0  0  0  0  0  0  0  0  0  0  0', '    3.1185   -0.3769   -0.3100 H   0  0  0  0  0  0  0  0  0  0  0  0', '    1.4699    0.8823    1.3039 H   0  0  0  0  0  0  0  0  0  0  0  0', '    0.8138   -0.6343   -1.1562 H   0  0  0  0  0  0  0  0  0  0  0  0', '    1.2959   -1.3416    0.4102 H   0  0  0  0  0  0  0  0  0  0  0  0', '   -1.0144   -1.5731    0.1334 H   0  0  0  0  0  0  0  0  0  0  0  0', '   -0.7652   -0.4341    1.4774 H   0  0  0  0  0  0  0  0  0  0  0  0', '   -1.4389    1.3382    0.1541 H   0  0  0  0  0  0  0  0  0  0  0  0', '   -2.9816   -1.0035   -0.7664 H   0  0  0  0  0  0  0  0  0  0  0  0', '   -3.6644    0.6169   -0.3365 H   0  0  0  0  0  0  0  0  0  0  0  0', '   -3.0020   -0.5612    0.9422 H   0  0  0  0  0  0  0  0  0  0  0  0', '  1  2  1  0', '  2  3  1  0', '  3  4  1  0', '  4  5  1  0', '  5  6  1  0', '  1  7  1  0', '  1  8  1  0', '  1  9  1  0', '  2 10  1  0', '  3 11  1  0', '  3 12  1  0', '  4 13  1  0', '  4 14  1  0', '  5 15  1  0', '  6 16  1  0', '  6 17  1  0', '  6 18  1  0', 'M  END']\n",
      "['    0.6630    1.1540    0.0070 C   0  0  0  0  0  0  0  0  0  0  0  0', '    0.2710   -0.9570    0.0360 C   0  0  0  0  0  0  0  0  0  0  0  0', '    1.8860    0.5460   -0.0280 C   0  0  0  0  0  0  0  0  0  0  0  0', '    0.4420    2.2070    0.0030 H   0  0  0  0  0  0  0  0  0  0  0  0', '   -0.2130   -1.9180    0.0550 H   0  0  0  0  0  0  0  0  0  0  0  0', '    2.8870    0.9350   -0.0640 H   0  0  0  0  0  0  0  0  0  0  0  0', '    1.6210   -0.8050   -0.0090 N   0  0  0  0  0  0  0  0  0  0  0  0', '    2.3010   -1.5440   -0.0280 H   0  0  0  0  0  0  0  0  0  0  0  0', '   -0.3340    0.2070    0.0470 N   0  0  0  0  0  0  0  0  0  0  0  0', '  1  3  1  0', '  1  4  1  0', '  1  9  1  0', '  2  7  1  0', '  2  9  1  0', '  2  5  1  0', '  3  6  1  0', '  3  7  1  0', '  7  8  1  0', 'M  CHG  1   7   1', 'M  END']\n",
      "['    1.0174    2.3622   -0.3853 O   0  0  0  0  0  0  0  0  0  0  0  0', '    0.5090    1.2092   -0.2244 C   0  0  0  0  0  0  0  0  0  0  0  0', '   -0.8009    0.9398    0.2918 N   0  0  0  0  0  0  0  0  0  0  0  0', '   -0.7221   -0.4446    0.7197 C   0  0  0  0  0  0  0  0  0  0  0  0', '    0.1172   -1.0342   -0.4103 C   0  0  0  0  0  0  0  0  0  0  0  0', '    1.1523   -0.0233   -0.5293 N   0  0  0  0  0  0  0  0  0  0  0  0', '   -1.6145    1.6017    0.3406 H   0  0  0  0  0  0  0  0  0  0  0  0', '   -0.0832   -0.5221    1.6379 H   0  0  0  0  0  0  0  0  0  0  0  0', '   -1.6897   -0.9272    0.8226 H   0  0  0  0  0  0  0  0  0  0  0  0', '    0.5070   -2.0261   -0.1737 H   0  0  0  0  0  0  0  0  0  0  0  0', '   -0.5538   -1.0270   -1.3116 H   0  0  0  0  0  0  0  0  0  0  0  0', '    2.1612   -0.1084   -0.7781 H   0  0  0  0  0  0  0  0  0  0  0  0', '  1  2  2  0', '  2  3  1  0', '  3  4  1  0', '  4  5  1  0', '  5  6  1  0', '  6  2  1  0', '  3  7  1  0', '  4  8  1  0', '  4  9  1  0', '  5 10  1  0', '  5 11  1  0', '  6 12  1  0', 'M  END']\n"
     ]
    }
   ],
   "source": [
    "name = \"288\"\n",
    "print(name)\n",
    "mcsa = MCSAlign(\"/data/unibas/boittier/hydra/train/288-32-4.out\", \"NC\", using_pdb=True)\n",
    "generate(mcsa, name)\n",
    "\n"
   ]
  },
  {
   "cell_type": "code",
   "execution_count": 34,
   "id": "abc79047-8e2f-494a-b59e-bd492f703d88",
   "metadata": {},
   "outputs": [
    {
     "data": {
      "image/png": "[encoded data removed]",
      "text/plain": [
       "<rdkit.Chem.rdchem.Mol at 0x2b8798cc5a80>"
      ]
     },
     "execution_count": 34,
     "metadata": {},
     "output_type": "execute_result"
    }
   ],
   "source": [
    "mcsa.all_mcs_structures[0]"
   ]
  },
  {
   "cell_type": "code",
   "execution_count": null,
   "id": "486bac13-10e5-400b-bb9e-559c14eb01db",
   "metadata": {},
   "outputs": [],
   "source": [
    "name = \"110\"\n",
    "print(name)\n",
    "mcsa = MCSAlign(\"/data/unibas/boittier/hydra/test/110-86-1.out\", \"N\")\n",
    "generate(mcsa, name)"
   ]
  },
  {
   "cell_type": "code",
   "execution_count": 6,
   "id": "02041ae8-5cc3-426c-b4ff-62a164d9cb7e",
   "metadata": {},
   "outputs": [
    {
     "name": "stdout",
     "output_type": "stream",
     "text": [
      "0.22023809523809523\n"
     ]
    }
   ],
   "source": [
    "print(np.max(mcsa.similarities))\n"
   ]
  },
  {
   "cell_type": "code",
   "execution_count": 10,
   "id": "487b3492-f0e1-4300-b4a5-c7b566c8797a",
   "metadata": {
    "tags": []
   },
   "outputs": [
    {
     "name": "stdout",
     "output_type": "stream",
     "text": [
      "20\n"
     ]
    }
   ],
   "source": [
    "mcsa.find_matches(0.2, n_values=20)\n",
    "print(len(mcsa.matches))\n",
    "mcsa.find_MCSs()"
   ]
  },
  {
   "cell_type": "code",
   "execution_count": null,
   "id": "95765a76-ed43-4b61-8767-d6fef75e648b",
   "metadata": {},
   "outputs": [],
   "source": []
  },
  {
   "cell_type": "code",
   "execution_count": 11,
   "id": "189d01ca-ecff-4b8f-90cb-ff134696c8ef",
   "metadata": {},
   "outputs": [
    {
     "data": {
      "image/png": "[encoded data removed]",
      "text/plain": [
       "<rdkit.Chem.rdchem.Mol at 0x2b0f531bb490>"
      ]
     },
     "execution_count": 11,
     "metadata": {},
     "output_type": "execute_result"
    }
   ],
   "source": [
    "mcsa.target_molHs"
   ]
  },
  {
   "cell_type": "code",
   "execution_count": 11,
   "id": "67019cab-5162-468b-b087-dd77c6c0d47e",
   "metadata": {},
   "outputs": [],
   "source": [
    "index = 9\n",
    "m1 = mcsa.all_mcs_structures[index]\n",
    "atoms, names = (mcsa.rotate_align(index, mcsa.motif))\n",
    "\n"
   ]
  },
  {
   "cell_type": "code",
   "execution_count": 12,
   "id": "8d74d6c5-344c-4ff5-81af-3ba3e5026b7e",
   "metadata": {},
   "outputs": [
    {
     "name": "stdout",
     "output_type": "stream",
     "text": [
      "\n"
     ]
    }
   ],
   "source": [
    "print()"
   ]
  },
  {
   "cell_type": "code",
   "execution_count": 13,
   "id": "89a66d3d-2321-44ec-a9b4-c75c4fa7ca01",
   "metadata": {},
   "outputs": [
    {
     "data": {
      "image/png": "[encoded data removed]",
      "text/plain": [
       "<rdkit.Chem.rdchem.Mol at 0x2b346c80c0d0>"
      ]
     },
     "execution_count": 13,
     "metadata": {},
     "output_type": "execute_result"
    }
   ],
   "source": [
    "mcsa.all_mcs_mols[index]"
   ]
  },
  {
   "cell_type": "code",
   "execution_count": 14,
   "id": "852f0562-9b33-4718-ad32-0dd7b3da73aa",
   "metadata": {},
   "outputs": [
    {
     "data": {
      "application/3dmoljs_load.v0": "<div id=\"3dmolviewer_16401794513808641\"  style=\"position: relative; width: 400px; height: 400px\">\n        <p id=\"3dmolwarning_16401794513808641\" style=\"background-color:#ffcccc;color:black\">You appear to be running in JupyterLab (or JavaScript failed to load for some other reason).  You need to install the 3dmol extension: <br>\n        <tt>jupyter labextension install jupyterlab_3dmol</tt></p>\n        </div>\n<script>\n\nvar loadScriptAsync = function(uri){\n  return new Promise((resolve, reject) => {\n    var tag = document.createElement('script');\n    tag.src = uri;\n    tag.async = true;\n    tag.onload = () => {\n      resolve();\n    };\n  var firstScriptTag = document.getElementsByTagName('script')[0];\n  firstScriptTag.parentNode.insertBefore(tag, firstScriptTag);\n});\n};\n\nif(typeof $3Dmolpromise === 'undefined') {\n$3Dmolpromise = null;\n  $3Dmolpromise = loadScriptAsync('https://3dmol.org/build/3Dmol.js');\n}\n\nvar viewer_16401794513808641 = null;\nvar warn = document.getElementById(\"3dmolwarning_16401794513808641\");\nif(warn) {\n    warn.parentNode.removeChild(warn);\n}\n$3Dmolpromise.then(function() {\nviewer_16401794513808641 = $3Dmol.createViewer($(\"#3dmolviewer_16401794513808641\"),{backgroundColor:\"white\"});\nviewer_16401794513808641.zoomTo();\n\tviewer_16401794513808641.addModel(\"22 \\n \\nC 0.058363696936595905 -3.7796867973443478 -0.9684001119843136\\nC -0.9786781301581493 -2.6862772169931235 -0.8525276025087992\\nC -0.2711835281712708 -1.3933056216175386 -0.5280208202817646\\nC -1.2097283747329644 -0.23373052526281946 -0.3895560705927847\\nC -0.41543368968921984 0.9817300117523848 -0.07202721163667257\\nC -1.0414960957142154 2.3184396768823827 0.1317454923995796\\nO 0.7978336896892197 0.9155699882476149 0.03252721163667256\\nH 0.3118492682344582 -4.0017731537000785 -2.0275064595549583\\nH -0.2998738882006877 -4.713923978513651 -0.48768967740249375\\nH 1.0089528719925822 -3.5141961135867907 -0.4723634932712146\\nH -1.4455813160767397 -2.5696212996768213 -1.8668707899627113\\nH -1.7870091570780757 -2.922215318974258 -0.16265304655524254\\nH 0.26113295656271157 -1.4999591474289202 0.44909693900442155\\nH 0.46333601076834613 -1.1550760142667595 -1.2976068135907814\\nH -1.9437061175327979 -0.39542270880284575 0.4415039758879254\\nH -1.7602114470164574 -0.013826973942321796 -1.3309483932967463\\nH -2.0660923170738608 2.1921650041976557 0.4907472057853273\\nH -0.4714537674877494 2.934135363018135 0.8670541188306684\\nH -0.9815502447075402 2.8495234816680197 -0.8421220433780005\\nO 2.8255 -0.4908 0.0366\\nH 2.263 0.3012 0.0225\\nH 3.7296 -0.1669 0.0551\\n\",\"xyz\");\n\tviewer_16401794513808641.setStyle({\"stick\": {}});\nviewer_16401794513808641.render();\n});\n</script>",
      "text/html": [
       "<div id=\"3dmolviewer_16401794513808641\"  style=\"position: relative; width: 400px; height: 400px\">\n",
       "        <p id=\"3dmolwarning_16401794513808641\" style=\"background-color:#ffcccc;color:black\">You appear to be running in JupyterLab (or JavaScript failed to load for some other reason).  You need to install the 3dmol extension: <br>\n",
       "        <tt>jupyter labextension install jupyterlab_3dmol</tt></p>\n",
       "        </div>\n",
       "<script>\n",
       "\n",
       "var loadScriptAsync = function(uri){\n",
       "  return new Promise((resolve, reject) => {\n",
       "    var tag = document.createElement('script');\n",
       "    tag.src = uri;\n",
       "    tag.async = true;\n",
       "    tag.onload = () => {\n",
       "      resolve();\n",
       "    };\n",
       "  var firstScriptTag = document.getElementsByTagName('script')[0];\n",
       "  firstScriptTag.parentNode.insertBefore(tag, firstScriptTag);\n",
       "});\n",
       "};\n",
       "\n",
       "if(typeof $3Dmolpromise === 'undefined') {\n",
       "$3Dmolpromise = null;\n",
       "  $3Dmolpromise = loadScriptAsync('https://3dmol.org/build/3Dmol.js');\n",
       "}\n",
       "\n",
       "var viewer_16401794513808641 = null;\n",
       "var warn = document.getElementById(\"3dmolwarning_16401794513808641\");\n",
       "if(warn) {\n",
       "    warn.parentNode.removeChild(warn);\n",
       "}\n",
       "$3Dmolpromise.then(function() {\n",
       "viewer_16401794513808641 = $3Dmol.createViewer($(\"#3dmolviewer_16401794513808641\"),{backgroundColor:\"white\"});\n",
       "viewer_16401794513808641.zoomTo();\n",
       "\tviewer_16401794513808641.addModel(\"22 \\n \\nC 0.058363696936595905 -3.7796867973443478 -0.9684001119843136\\nC -0.9786781301581493 -2.6862772169931235 -0.8525276025087992\\nC -0.2711835281712708 -1.3933056216175386 -0.5280208202817646\\nC -1.2097283747329644 -0.23373052526281946 -0.3895560705927847\\nC -0.41543368968921984 0.9817300117523848 -0.07202721163667257\\nC -1.0414960957142154 2.3184396768823827 0.1317454923995796\\nO 0.7978336896892197 0.9155699882476149 0.03252721163667256\\nH 0.3118492682344582 -4.0017731537000785 -2.0275064595549583\\nH -0.2998738882006877 -4.713923978513651 -0.48768967740249375\\nH 1.0089528719925822 -3.5141961135867907 -0.4723634932712146\\nH -1.4455813160767397 -2.5696212996768213 -1.8668707899627113\\nH -1.7870091570780757 -2.922215318974258 -0.16265304655524254\\nH 0.26113295656271157 -1.4999591474289202 0.44909693900442155\\nH 0.46333601076834613 -1.1550760142667595 -1.2976068135907814\\nH -1.9437061175327979 -0.39542270880284575 0.4415039758879254\\nH -1.7602114470164574 -0.013826973942321796 -1.3309483932967463\\nH -2.0660923170738608 2.1921650041976557 0.4907472057853273\\nH -0.4714537674877494 2.934135363018135 0.8670541188306684\\nH -0.9815502447075402 2.8495234816680197 -0.8421220433780005\\nO 2.8255 -0.4908 0.0366\\nH 2.263 0.3012 0.0225\\nH 3.7296 -0.1669 0.0551\\n\",\"xyz\");\n",
       "\tviewer_16401794513808641.setStyle({\"stick\": {}});\n",
       "viewer_16401794513808641.render();\n",
       "});\n",
       "</script>"
      ]
     },
     "metadata": {},
     "output_type": "display_data"
    }
   ],
   "source": [
    "xyz_1_str = open(\"test1.xyz\").read()\n",
    "#xyz_2_str = open(\"/data/unibas/boittier/hydra/train/62-53-3.out.complex.mol2\").read()\n",
    "xyz_3_str = open(\"test3.xyz\").read()\n",
    "\n",
    "xyzview = py3Dmol.view(width=400,height=400)\n",
    "#xyzview.addModel(xyz_1_str, \"xyz\")\n",
    "#xyzview.addModel(xyz_2_str, \"mol2\")\n",
    "xyzview.addModel(xyz_3_str, \"xyz\")\n",
    "xyzview.setStyle({'stick':{}})\n",
    "xyzview.show()"
   ]
  },
  {
   "cell_type": "code",
   "execution_count": null,
   "id": "84321b1b-478c-497d-8224-9a9735bcbbc0",
   "metadata": {},
   "outputs": [],
   "source": []
  },
  {
   "cell_type": "code",
   "execution_count": null,
   "id": "3c3420b5-8f5c-4f5a-9b63-64a6f8782503",
   "metadata": {},
   "outputs": [],
   "source": []
  },
  {
   "cell_type": "code",
   "execution_count": null,
   "id": "f64e2a6f-47cb-4b41-9752-97a5184cdc78",
   "metadata": {},
   "outputs": [],
   "source": []
  },
  {
   "cell_type": "code",
   "execution_count": null,
   "id": "bfa55591-18c4-41dc-81b7-51201f6df2c0",
   "metadata": {},
   "outputs": [],
   "source": []
  },
  {
   "cell_type": "code",
   "execution_count": null,
   "id": "a0444843-93fe-4dae-aee3-4bd76f15a4f2",
   "metadata": {},
   "outputs": [],
   "source": []
  }
 ],
 "metadata": {
  "kernelspec": {
   "display_name": "my-rdkit-env",
   "language": "python",
   "name": "my-rdkit-env"
  },
  "language_info": {
   "codemirror_mode": {
    "name": "ipython",
    "version": 3
   },
   "file_extension": ".py",
   "mimetype": "text/x-python",
   "name": "python",
   "nbconvert_exporter": "python",
   "pygments_lexer": "ipython3",
   "version": "3.6.10"
  }
 },
 "nbformat": 4,
 "nbformat_minor": 5
}
